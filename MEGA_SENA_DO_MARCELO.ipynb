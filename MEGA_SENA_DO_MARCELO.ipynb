{
  "nbformat": 4,
  "nbformat_minor": 0,
  "metadata": {
    "colab": {
      "provenance": [],
      "authorship_tag": "ABX9TyN7Pi2lrt5t8TlnMrmmhTOq",
      "include_colab_link": true
    },
    "kernelspec": {
      "name": "python3",
      "display_name": "Python 3"
    },
    "language_info": {
      "name": "python"
    }
  },
  "cells": [
    {
      "cell_type": "markdown",
      "metadata": {
        "id": "view-in-github",
        "colab_type": "text"
      },
      "source": [
        "<a href=\"https://colab.research.google.com/github/Jeronymos1972/Comandos-do-Git/blob/main/MEGA_SENA_DO_MARCELO.ipynb\" target=\"_parent\"><img src=\"https://colab.research.google.com/assets/colab-badge.svg\" alt=\"Open In Colab\"/></a>"
      ]
    },
    {
      "cell_type": "code",
      "execution_count": null,
      "metadata": {
        "id": "i68oqJzJXn75",
        "colab": {
          "base_uri": "https://localhost:8080/"
        },
        "outputId": "21d41f3f-57c6-4c9d-e533-661b4461adcb"
      },
      "outputs": [
        {
          "output_type": "stream",
          "name": "stdout",
          "text": [
            "****** BEM VINDO À MEGA SENA DO MARCELO!!! ******\n",
            "************************************************\n",
            " VOCÊ SÓ PODE APOSTAR 06 NÚMEROS ENTRE 1 E 60 ...\n",
            "************************************************\n",
            "VAMOS APOSTAR?\n",
            "************************************************\n",
            "Escolha um número de 1 a 60: 23\n",
            "Escolha um número de 1 a 60: 34\n",
            "Escolha um número de 1 a 60: 67\n",
            "Número inválido, aposte outro: \n",
            "Escolha um número de 1 a 60: 60\n",
            "Escolha um número de 1 a 60: 12\n",
            "Escolha um número de 1 a 60: 01\n",
            "Escolha um número de 1 a 60: 05\n",
            "************************************************\n",
            " Estas foram suas apostas...\n",
            "23, 34, 60, 12, 1, 5\n",
            "************************************************\n",
            "\n",
            "VAMOS AO SORTEIO!!!!!\n",
            "************************************************\n",
            "Sorteio 1: 49 - Não Acertou!!!!\n",
            "Sorteio 2: 2 - Não Acertou!!!!\n",
            "Sorteio 3: 40 - Não Acertou!!!!\n",
            "Sorteio 4: 8 - Não Acertou!!!!\n",
            "Sorteio 5: 18 - Não Acertou!!!!\n",
            "Sorteio 6: 51 - Não Acertou!!!!\n",
            "************************************************\n",
            "Número sorteados: [49, 2, 40, 8, 18, 51]\n",
            "************************************************\n",
            "Acertou 0 número(s)!\n",
            "Você acertou o(s) número(s)\n",
            "\n",
            "Não Acertou nenhum Número!!!\n",
            "************************************************\n"
          ]
        }
      ],
      "source": [
        "# @title\n",
        "import random\n",
        "import time\n",
        "quant_numeros = 6\n",
        "numeros_aposta = []\n",
        "numeros_sorteio = []\n",
        "n = 1\n",
        "print ('****** BEM VINDO À MEGA SENA DO MARCELO!!! ******')\n",
        "print ('************************************************')\n",
        "print (' VOCÊ SÓ PODE APOSTAR 06 NÚMEROS ENTRE 1 E 60 ...')\n",
        "print ('************************************************')\n",
        "print ('VAMOS APOSTAR?')\n",
        "print ('************************************************')\n",
        "\n",
        "while n <= quant_numeros:\n",
        "  aposta = int(input('Escolha um número de 1 a 60: '))\n",
        "  if aposta not in numeros_aposta:\n",
        "    numeros_aposta.append(aposta)\n",
        "    if aposta > 60 or aposta < 1:\n",
        "      print('Número inválido, aposte outro: ')\n",
        "      continue\n",
        "    n += 1\n",
        "  else:\n",
        "    print('Número repetido, aposte outro: ')\n",
        "    continue\n",
        "print('************************************************')\n",
        "lista = [aposta > 60 or aposta < 1 for aposta in numeros_aposta]\n",
        "print(f'Estas foram suas apostas...')\n",
        "print(*[aposta for aposta, is_invalid in zip(numeros_aposta, lista) if not is_invalid], sep=', ')\n",
        "\n",
        "print('************************************************')\n",
        "\n",
        "print('\\nVAMOS AO SORTEIO!!!!!')\n",
        "\n",
        "print('************************************************')\n",
        "\n",
        "n = 1\n",
        "acertos = 0\n",
        "\n",
        "while n <= quant_numeros:\n",
        "  sorteio = random.randint(1,60)\n",
        "  time.sleep(2)\n",
        "  if sorteio not in numeros_sorteio:\n",
        "    numeros_sorteio.append(sorteio)\n",
        "    if sorteio not in numeros_aposta:\n",
        "      print(f'Sorteio {n}: {sorteio} - Não Acertou!!!!')\n",
        "    else:\n",
        "      print(f' Sorteio {n}: {sorteio} - Acertou!!!!')\n",
        "      acertos += 1\n",
        "    n += 1\n",
        "print('************************************************')\n",
        "print(f'Número sorteados: {numeros_sorteio}')\n",
        "print('************************************************')\n",
        "print(f'Acertou {acertos} número(s)!')\n",
        "print(f'Você acertou o(s) número(s)')\n",
        "print(*[aposta for aposta in numeros_aposta if aposta in numeros_sorteio], sep=', ')\n",
        "if acertos == 0:\n",
        "  print(f'Neste Jogo não houve acertos!!!')\n",
        "print('************************************************')\n",
        "\n"
      ]
    }
  ]
}