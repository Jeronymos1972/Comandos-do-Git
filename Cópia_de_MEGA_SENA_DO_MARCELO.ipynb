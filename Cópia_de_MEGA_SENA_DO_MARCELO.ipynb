{
  "nbformat": 4,
  "nbformat_minor": 0,
  "metadata": {
    "colab": {
      "provenance": [],
      "authorship_tag": "ABX9TyN7Pi2lrt5t8TlnMrmmhTOq",
      "include_colab_link": true
    },
    "kernelspec": {
      "name": "python3",
      "display_name": "Python 3"
    },
    "language_info": {
      "name": "python"
    }
  },
  "cells": [
    {
      "cell_type": "markdown",
      "metadata": {
        "id": "view-in-github",
        "colab_type": "text"
      },
      "source": [
        "<a href=\"https://colab.research.google.com/github/Jeronymos1972/Comandos-do-Git/blob/main/C%C3%B3pia_de_MEGA_SENA_DO_MARCELO.ipynb\" target=\"_parent\"><img src=\"https://colab.research.google.com/assets/colab-badge.svg\" alt=\"Open In Colab\"/></a>"
      ]
    },
    {
      "cell_type": "code",
      "execution_count": null,
      "metadata": {
        "id": "i68oqJzJXn75"
      },
      "outputs": [],
      "source": [
        "# @title\n",
        "import random\n",
        "import time\n",
        "quant_numeros = 6\n",
        "numeros_aposta = []\n",
        "numeros_sorteio = []\n",
        "n = 1\n",
        "print ('****** BEM VINDO À MEGA SENA DO MARCELO!!! ******')\n",
        "print ('************************************************')\n",
        "print (' VOCÊ SÓ PODE APOSTAR 06 NÚMEROS ENTRE 1 E 60 ...')\n",
        "print ('************************************************')\n",
        "print ('VAMOS APOSTAR?')\n",
        "print ('************************************************')\n",
        "\n",
        "while n <= quant_numeros:\n",
        "  aposta = int(input('Escolha um número de 1 a 60: '))\n",
        "  if aposta not in numeros_aposta:\n",
        "    numeros_aposta.append(aposta)\n",
        "    if aposta > 60 or aposta < 1:\n",
        "      print('Número inválido, aposte outro: ')\n",
        "      continue\n",
        "    n += 1\n",
        "  else:\n",
        "    print('Número repetido, aposte outro: ')\n",
        "    continue\n",
        "print('************************************************')\n",
        "lista = [aposta > 60 or aposta < 1 for aposta in numeros_aposta]\n",
        "print(f'Estas foram suas apostas...')\n",
        "print(*[aposta for aposta, is_invalid in zip(numeros_aposta, lista) if not is_invalid], sep=', ')\n",
        "\n",
        "print('************************************************')\n",
        "\n",
        "print('\\nVAMOS AO SORTEIO!!!!!')\n",
        "\n",
        "print('************************************************')\n",
        "\n",
        "n = 1\n",
        "acertos = 0\n",
        "\n",
        "while n <= quant_numeros:\n",
        "  sorteio = random.randint(1,60)\n",
        "  time.sleep(2)\n",
        "  if sorteio not in numeros_sorteio:\n",
        "    numeros_sorteio.append(sorteio)\n",
        "    if sorteio not in numeros_aposta:\n",
        "      print(f'Sorteio {n}: {sorteio} - Não Acertou!!!!')\n",
        "    else:\n",
        "      print(f' Sorteio {n}: {sorteio} - Acertou!!!!')\n",
        "      acertos += 1\n",
        "    n += 1\n",
        "print('************************************************')\n",
        "print(f'Número sorteados: {numeros_sorteio}')\n",
        "print('************************************************')\n",
        "print(f'Acertou {acertos} número(s)!')\n",
        "print(f'Você acertou o(s) número(s)')\n",
        "print(*[aposta for aposta in numeros_aposta if aposta in numeros_sorteio], sep=', ')\n",
        "if acertos == 0:\n",
        "  print(f'Neste Jogo não houve acertos!!!')\n",
        "print('************************************************')\n",
        "\n"
      ]
    }
  ]
}